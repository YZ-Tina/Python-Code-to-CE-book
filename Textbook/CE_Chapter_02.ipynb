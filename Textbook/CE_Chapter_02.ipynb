{
 "cells": [
  {
   "cell_type": "markdown",
   "metadata": {},
   "source": [
    "### Chapter 2. Numerical solution methods\n",
    "\n",
    "Reference: \n",
    "Fehr, H. and Kindermann, F. 2018. The overlapping generations model. <i>Introduction to Computational Economics Using Fortran.</i> Oxford University Press. pp39-110."
   ]
  },
  {
   "cell_type": "code",
   "execution_count": 1,
   "metadata": {},
   "outputs": [
    {
     "name": "stdout",
     "output_type": "stream",
     "text": [
      "vector a =  [4. 3. 2. 1.]\n",
      "matrix x =  [[0. 0. 0. 0.]\n",
      " [0. 0. 0. 0.]]\n",
      "matrix x =  [[1. 2. 3. 4.]\n",
      " [5. 6. 7. 8.]]\n",
      "transpose of x =  [[1. 5.]\n",
      " [2. 6.]\n",
      " [3. 7.]\n",
      " [4. 8.]]\n",
      "standard product of x, y =  [[ 30.  70.]\n",
      " [ 70. 174.]]\n",
      "element-wise multiplication of x,y =  [[ 1.  4.  9. 16.]\n",
      " [25. 36. 49. 64.]]\n",
      "Row maxima = [5. 6. 7. 8.]\n",
      "Col maxima = [4. 8.]\n",
      "Overall maximum = 8.0\n"
     ]
    }
   ],
   "source": [
    "##### Program 2.1 Matrix and vector operations\n",
    "\n",
    "# Import package\n",
    "import numpy as np\n",
    "\n",
    "\n",
    "# Initialize vectors and matrics\n",
    "\n",
    "# A vector is a one-dimensional array. You can create a vector from a list of numbers.\n",
    "# Optionally, you can tell numpy the type of the entries. The 'float' for real number and\n",
    "# 'int' for intergers.\n",
    "a = np.array([4,3,2,1],dtype='float')\n",
    "print('vector a = ', a)\n",
    "\n",
    "\n",
    "#You can use np.arange(a,b,c) to create a sequence of numbers. The sequence starts from 'a' \n",
    "#and continues with 'a+c, a+2c,...' until 'b-1'. If 'b-1' is not in the sequence, the \n",
    "#sequence ends with the number that is in this sequence and is closest to 'b-1'.\n",
    "a = np.arange(4,0,-1) \n",
    "\n",
    "\n",
    "# The '+' is used for element-wise sum.\n",
    "b = a + 4\n",
    "\n",
    "\n",
    "# You can use np.zeros((a,b)) to create an a*b matrix with all zero entries.\n",
    "x = np.zeros((2,4))\n",
    "print('matrix x = ', x)\n",
    "\n",
    "\n",
    "# Numpy enables us to slicing the matrix easily. x[a,b] means the entry of x located at\n",
    "# a^th row and b^th column. x[:a,b] means the first entries located ata rows and b^th column.\n",
    "# x[a,:] means all the entries in a^th row. We can use '=' to replace the entries \n",
    "# that we slicing.\n",
    "x[0,:] = np.arange(1,5)\n",
    "x[1,:] = np.arange(5,9)\n",
    "print('matrix x = ', x)\n",
    "\n",
    "\n",
    "# Using matrix.T to transpose the matrix.\n",
    "y = x.T\n",
    "print('transpose of x = ', y)\n",
    "\n",
    "\n",
    "# Using A@B to multiply two matrices.\n",
    "z = x@y\n",
    "print('standard product of x, y = ', z)\n",
    "\n",
    "\n",
    "# Using A*B to entry-wisely multiply A and B.\n",
    "w = y.T*x\n",
    "print('element-wise multiplication of x,y = ', w)\n",
    "\n",
    "\n",
    "# To produce summary data, we can either collect information for each row or column, \n",
    "# or for the whole matrix:\n",
    "\n",
    "# Maximum entry in each row\n",
    "print(\"Row maxima =\", np.max(x, axis=0))\n",
    "\n",
    "\n",
    "# Maximum entry in each column\n",
    "print(\"Col maxima =\", np.max(x, axis=1))\n",
    "\n",
    "\n",
    "# Maximum entry in the whole matrix\n",
    "print(\"Overall maximum =\", np.max(x))\n",
    "\n"
   ]
  },
  {
   "cell_type": "code",
   "execution_count": 2,
   "metadata": {},
   "outputs": [
    {
     "name": "stdout",
     "output_type": "stream",
     "text": [
      "P = [0 1 2]\n",
      "LU = [[2.   0.   1.  ]\n",
      " [0.   4.   1.  ]\n",
      " [0.5  0.25 1.25]]\n",
      "P = [[1. 0. 0.]\n",
      " [0. 1. 0.]\n",
      " [0. 0. 1.]]\n",
      "L = [[1.   0.   0.  ]\n",
      " [0.   1.   0.  ]\n",
      " [0.5  0.25 1.  ]]\n",
      "U = [[2.   0.   1.  ]\n",
      " [0.   4.   1.  ]\n",
      " [0.   0.   1.25]]\n"
     ]
    }
   ],
   "source": [
    "##### Program 2.2 Linear equation-solving\n",
    "\n",
    "import numpy as np\n",
    "import scipy.linalg as linalg\n",
    "\n",
    "# Initialize vectors and matrics\n",
    "Q = np.zeros((3,3))\n",
    "Q[0,:] = ([2,0,1])\n",
    "Q[1,:] = ([0,4,1])\n",
    "Q[2,:] = ([1,1,2])\n",
    "b = np.array([30,40,30])\n",
    "\n",
    "# Factorise Q\n",
    "\n",
    "\n",
    "# scipy.linalg.lu_factor factorise Q as P,L,U and store them efficiently (L and U in one \n",
    "# n*n matrix and P as a vector of integers). For more information, see scipy.linalg.lu_factor\n",
    "# document.\n",
    "LU, piv1 = linalg.lu_factor(Q)\n",
    "print('P =', piv1)\n",
    "print('LU =', LU)\n",
    "\n",
    "\n",
    "# Alternatively, we can use scipy.linalg.lu to factorise Q=PLU and store P, L, U in\n",
    "# n*n matries. However, this is not the optimal way to store them for large systems \n",
    "# (it takes too much memory).\n",
    "\n",
    "piv2, L, U = linalg.lu(Q)\n",
    "print('P =', piv2)\n",
    "print('L =', L)\n",
    "print('U =', U)\n"
   ]
  },
  {
   "cell_type": "code",
   "execution_count": 3,
   "metadata": {},
   "outputs": [
    {
     "name": "stdout",
     "output_type": "stream",
     "text": [
      "p1, p2, p3 = 13.0 9.0 4.0\n",
      "p1, p2, p3 = 13.0 9.0 4.0\n"
     ]
    }
   ],
   "source": [
    "##### Program 2.2 Linear equation-solving\n",
    "\n",
    "# Solve the system\n",
    "\n",
    "# Using np.linalg.solve it directly\n",
    "p = np.linalg.solve(Q,b)\n",
    "print('p1, p2, p3 =',p[0],p[1],p[2])\n",
    "\n",
    "# Using scipy.linalg.lu_solve to solve for p with the pre-calculated P, LU (store efficiently)\n",
    "p = linalg.lu_solve((LU,piv1),b)\n",
    "print('p1, p2, p3 =',p[0],p[1],p[2])"
   ]
  },
  {
   "cell_type": "code",
   "execution_count": 23,
   "metadata": {},
   "outputs": [
    {
     "name": "stdout",
     "output_type": "stream",
     "text": [
      "Q^-1 =  [[ 0.7  0.1 -0.4]\n",
      " [ 0.1  0.3 -0.2]\n",
      " [-0.4 -0.2  0.8]]\n",
      "p =  [13.  9.  4.]\n"
     ]
    }
   ],
   "source": [
    "##### Program 2.3 Inversion of matrix\n",
    "\n",
    "# Import package\n",
    "import numpy as np\n",
    "import scipy.linalg as linalg\n",
    "from numpy.linalg import inv\n",
    "\n",
    "# Set up matrix and vector\n",
    "Q = np.zeros((3,3))\n",
    "Q[0,:] = ([2,0,1])\n",
    "Q[1,:] = ([0,4,1])\n",
    "Q[2,:] = ([1,1,2])\n",
    "b = np.array([30,40,30])\n",
    "\n",
    "# Invert Q\n",
    "Q_inv = inv(Q)\n",
    "print('Q^-1 = ', Q_inv)\n",
    "\n",
    "# Calculate solution\n",
    "p = Q_inv @ b\n",
    "print('p = ', p)"
   ]
  },
  {
   "cell_type": "code",
   "execution_count": 24,
   "metadata": {},
   "outputs": [
    {
     "name": "stdout",
     "output_type": "stream",
     "text": [
      "False x =  [ 5.78079768e-01  2.55232048e+00 -1.75178833e+01  6.16191406e+01\n",
      " -3.47109375e+01 -1.74031250e+02  3.51281250e+02 -2.76750000e+02\n",
      "  9.41250000e+01  6.50000000e+00 -2.00000000e+01  7.00000000e+00\n",
      " -1.50000000e+00  0.00000000e+00 -6.25000000e-02]\n",
      "True x = [ 1.  0.  0.  0.  0.  0. -0.  0. -0.  0. -0. -0.  0. -0.  0.]\n"
     ]
    }
   ],
   "source": [
    "# Import package\n",
    "import numpy as np\n",
    "import scipy.linalg as linalg\n",
    "from numpy.linalg import inv\n",
    "\n",
    "# Function that generates Hilbert Matrix\n",
    "def hilbert (n):\n",
    "    A = np. zeros ((n,n))\n",
    "    for i in range (n):\n",
    "        for j in range (n):\n",
    "            A[i,j ]=1/( i+j+1)\n",
    "    return A\n",
    "A = hilbert(15)\n",
    "b = A[: ,0]\n",
    "\n",
    "# Solving for x by x=A^-1b\n",
    "A_inv = np.linalg.inv(A)\n",
    "x = A_inv @ b\n",
    "print('False x = ', x)\n",
    "\n",
    "# Solving for x by SciPy\n",
    "LU, piv1 = linalg.lu_factor(A)\n",
    "x = linalg.lu_solve((LU,piv1),b)\n",
    "print('True x =',x)"
   ]
  },
  {
   "cell_type": "code",
   "execution_count": 25,
   "metadata": {},
   "outputs": [
    {
     "name": "stdout",
     "output_type": "stream",
     "text": [
      "Iter:  1 15.0\n",
      "Iter:  2 12.5\n",
      "Iter:  3 6.25\n",
      "Iter:  4 4.6875\n",
      "Iter:  5 2.34375\n",
      "Iter:  6 1.7578125\n",
      "Iter:  7 0.87890625\n",
      "Iter:  8 0.6591796875\n",
      "Iter:  9 0.32958984375\n",
      "Iter:  10 0.2471923828125\n",
      "Iter:  11 0.12359619140625\n",
      "Iter:  12 0.0926971435546875\n",
      "Iter:  13 0.04634857177734375\n",
      "Iter:  14 0.03476142883300781\n",
      "Iter:  15 0.017380714416503906\n",
      "Iter:  16 0.01303553581237793\n",
      "Iter:  17 0.006517767906188965\n",
      "Iter:  18 0.004888325929641724\n",
      "Iter:  19 0.002444162964820862\n",
      "Iter:  20 0.0018331222236156464\n",
      "Iter:  21 0.0009165611118078232\n",
      "Iter:  22 0.0006874208338558674\n",
      "Iter:  23 0.0003437104169279337\n",
      "Iter:  24 0.00025778281269595027\n",
      "Iter:  25 0.00012889140634797513\n",
      "Iter:  26 9.666855476098135e-05\n",
      "Iter:  27 4.8334277380490676e-05\n",
      "Iter:  28 3.625070803536801e-05\n",
      "Iter:  29 1.8125354017684003e-05\n",
      "Iter:  30 1.3594015513263003e-05\n",
      "Iter:  31 6.797007756631501e-06\n",
      "Iter:  32 5.097755817473626e-06\n",
      "Iter:  33 2.548877908736813e-06\n",
      "Iter:  34 1.9116584315526097e-06\n",
      "Iter:  35 9.558292166644833e-07\n",
      "x =  [13.00000011  9.00000006  4.00000063]\n"
     ]
    }
   ],
   "source": [
    "##### Program 2.4 Jacobi iteration-Matrix form\n",
    "\n",
    "# Import package\n",
    "import numpy as np\n",
    "\n",
    "# Set up matrix and vector\n",
    "A = np.zeros((3,3))\n",
    "A[0,:] = ([2,0,1])\n",
    "A[1,:] = ([0,4,1])\n",
    "A[2,:] = ([1,1,2])\n",
    "b = np.array([30,40,30])\n",
    "ID = np.zeros((3,3))\n",
    "Dinv = np.zeros((3,3))\n",
    "for i in range(3):\n",
    "    ID[i,i] = 1\n",
    "    Dinv[i,i] = 1/A[i,i]\n",
    "\n",
    "# Calculate iteratin matrix and vector\n",
    "C = ID - np.matmul(Dinv, A)\n",
    "d = np.matmul(Dinv, b)\n",
    "\n",
    "# Initialize xold\n",
    "xold = np.zeros(3)\n",
    "\n",
    "# Start interation\n",
    "for iter in range(1,201):\n",
    "    x = d + np.matmul(C, xold)\n",
    "    print('Iter: ', iter, np.amax(abs(x-xold)))\n",
    "    # check for convergence\n",
    "    if np.amax(abs(x-xold)) < 1e-6: \n",
    "        print('x = ', x)\n",
    "        break\n",
    "    else:\n",
    "        xold = x"
   ]
  },
  {
   "cell_type": "code",
   "execution_count": 26,
   "metadata": {},
   "outputs": [
    {
     "name": "stdout",
     "output_type": "stream",
     "text": [
      "Iter:  1 23.45207879911715\n",
      "Iter:  2 15.051993223490369\n",
      "Iter:  3 8.970437559004578\n",
      "Iter:  4 5.644497458808888\n",
      "Iter:  5 3.3639140846267166\n",
      "Iter:  6 2.1166865470533334\n",
      "Iter:  7 1.2614677817350186\n",
      "Iter:  8 0.793757455145\n",
      "Iter:  9 0.47305041815063203\n",
      "Iter:  10 0.29765904567937496\n",
      "Iter:  11 0.177393906806487\n",
      "Iter:  12 0.11162214212976562\n",
      "Iter:  13 0.06652271505243262\n",
      "Iter:  14 0.04185830329866211\n",
      "Iter:  15 0.024946018144662234\n",
      "Iter:  16 0.01569686373699829\n",
      "Iter:  17 0.009354756804248339\n",
      "Iter:  18 0.0058863239013743586\n",
      "Iter:  19 0.0035080338015931268\n",
      "Iter:  20 0.0022073714630153844\n",
      "Iter:  21 0.0013155126755974226\n",
      "Iter:  22 0.0008277642986307692\n",
      "Iter:  23 0.0004933172533490334\n",
      "Iter:  24 0.00031041161198653845\n",
      "Iter:  25 0.00018499397000588754\n",
      "Iter:  26 0.00011640435449495191\n",
      "Iter:  27 6.937273875220783e-05\n",
      "Iter:  28 4.365163293560697e-05\n",
      "Iter:  29 2.6014777032077935e-05\n",
      "Iter:  30 1.6369362350852613e-05\n",
      "Iter:  31 9.755541387029226e-06\n",
      "Iter:  32 6.13851088156973e-06\n",
      "Iter:  33 3.65832802013596e-06\n",
      "Iter:  34 2.3019415808099265e-06\n",
      "Iter:  35 1.3718730083554551e-06\n",
      "Iter:  36 8.632280940576288e-07\n",
      "Iter:  37 5.144523788758836e-07\n",
      "Iter:  38 3.237105351425322e-07\n",
      "Iter:  39 1.9291964147510367e-07\n",
      "Iter:  40 1.2139145012525555e-07\n",
      "Iter:  41 7.234486583163433e-08\n",
      "Iter:  42 4.552179593598775e-08\n",
      "Iter:  43 2.712932663615609e-08\n",
      "Iter:  44 1.7070673291597514e-08\n",
      "Iter:  45 1.0173497426676253e-08\n",
      "Iter:  46 6.4015038488943605e-09\n",
      "p =  [13.  9.  4.]\n"
     ]
    }
   ],
   "source": [
    "##### Program 2.4 Jacobi iteration\n",
    "\n",
    "# Import package\n",
    "import numpy as np\n",
    "\n",
    "# Set up matrix and vector\n",
    "Q = np.zeros((3,3))\n",
    "Q[0,:] = ([2,0,1])\n",
    "Q[1,:] = ([0,4,1])\n",
    "Q[2,:] = ([1,1,2])\n",
    "b = np.array([30,40,30])\n",
    "\n",
    "# Initialize p_old\n",
    "p_old = np.array([0.0,0.0,0.0])\n",
    "p = p_old.copy()\n",
    "\n",
    "# Start interation\n",
    "for iter in range(1,201):\n",
    "    for i in range(len(b)):\n",
    "        Q1 = np.append(Q[i,:i],Q[i,i+1:])\n",
    "        p1 = np.append(p_old[:i],p_old[i+1:])\n",
    "        sumterm = Q1 @ p1\n",
    "        p[i] = (1/Q[i,i])*(b[i] - sumterm)\n",
    "    print('Iter: ', iter, np.linalg.norm(p-p_old))\n",
    "    # check for convergence\n",
    "    if np.linalg.norm(p-p_old) < 1e-8:\n",
    "        print('p = ', p)\n",
    "        break\n",
    "    else:\n",
    "        p_old = p.copy()"
   ]
  },
  {
   "cell_type": "code",
   "execution_count": 58,
   "metadata": {},
   "outputs": [],
   "source": [
    "import numpy as np\n",
    "def bisect(f, inita, initb, tol):\n",
    "    # Check whether [a,b] bound a root\n",
    "    if f(inita)*f(initb) < 0:\n",
    "        print(\"The scalars a and b do not bound a root\")\n",
    "        \n",
    "    fval = tol + 1.0 # we need a initial value of f\n",
    "    a = inita # initial value of a\n",
    "    b = initb # initial value of b\n",
    "    \n",
    "    while abs(fval) > tol:\n",
    "        m = (a+b)/2.0\n",
    "        fval = f(m)\n",
    "        if f(a)*fval < 0.0:\n",
    "            b = m\n",
    "        else:\n",
    "            a = m\n",
    "        print(\"a=%5.15e, b=%5.15e, m=%5.15e, f(m)=%5.15e\"%(a,b,m,f(m)))\n",
    "    return m, f(m)"
   ]
  },
  {
   "cell_type": "code",
   "execution_count": 59,
   "metadata": {},
   "outputs": [],
   "source": [
    "def f(x):\n",
    "    \n",
    "    f = 0.5 * x ** (-0.2) + 0.5 * x ** (-0.5) - 2\n",
    "    \n",
    "    return f"
   ]
  },
  {
   "cell_type": "code",
   "execution_count": 60,
   "metadata": {
    "scrolled": true
   },
   "outputs": [
    {
     "name": "stdout",
     "output_type": "stream",
     "text": [
      "The scalars a and b do not bound a root\n",
      "a=1.500000000000000e-01, b=2.500000000000000e-01, m=1.500000000000000e-01, f(m)=2.171572454676829e-02\n",
      "a=1.500000000000000e-01, b=2.000000000000000e-01, m=2.000000000000000e-01, f(m)=-1.921011805194976e-01\n",
      "a=1.500000000000000e-01, b=1.750000000000000e-01, m=1.750000000000000e-01, f(m)=-9.623461834656322e-02\n",
      "a=1.500000000000000e-01, b=1.625000000000000e-01, m=1.625000000000000e-01, f(m)=-4.053602562256731e-02\n",
      "a=1.500000000000000e-01, b=1.562500000000000e-01, m=1.562500000000000e-01, f(m)=-1.030927225495271e-02\n",
      "a=1.531250000000000e-01, b=1.562500000000000e-01, m=1.531250000000000e-01, f(m)=5.467220304518072e-03\n",
      "a=1.531250000000000e-01, b=1.546875000000000e-01, m=1.546875000000000e-01, f(m)=-2.478563016349744e-03\n",
      "a=1.539062500000000e-01, b=1.546875000000000e-01, m=1.539062500000000e-01, f(m)=1.479765349631013e-03\n",
      "a=1.539062500000000e-01, b=1.542968750000000e-01, m=1.542968750000000e-01, f(m)=-5.030170328050865e-04\n",
      "a=1.541015625000000e-01, b=1.542968750000000e-01, m=1.541015625000000e-01, f(m)=4.874667960268475e-04\n",
      "a=1.541015625000000e-01, b=1.541992187500000e-01, m=1.541992187500000e-01, f(m)=-8.001606457419541e-06\n",
      "a=1.541503906250000e-01, b=1.541992187500000e-01, m=1.541503906250000e-01, f(m)=2.396759287615069e-04\n",
      "a=1.541748046875000e-01, b=1.541992187500000e-01, m=1.541748046875000e-01, f(m)=1.158230001507832e-04\n",
      "a=1.541870117187500e-01, b=1.541992187500000e-01, m=1.541870117187500e-01, f(m)=5.390715728426088e-05\n",
      "a=1.541931152343750e-01, b=1.541992187500000e-01, m=1.541931152343750e-01, f(m)=2.295189060852465e-05\n",
      "a=1.541961669921875e-01, b=1.541992187500000e-01, m=1.541961669921875e-01, f(m)=7.474920884931180e-06\n",
      "a=1.541961669921875e-01, b=1.541976928710938e-01, m=1.541976928710938e-01, f(m)=-2.633980824562343e-07\n",
      "x =  0.15419769287109375 f =  -2.633980824562343e-07\n"
     ]
    }
   ],
   "source": [
    "a = 0.05\n",
    "b = 0.25\n",
    "tol = 1e-6\n",
    "\n",
    "x = bisect(f, a, b, tol)\n",
    "print('x = ', x[0], 'f = ', x[1])"
   ]
  },
  {
   "cell_type": "code",
   "execution_count": 96,
   "metadata": {},
   "outputs": [
    {
     "name": "stdout",
     "output_type": "stream",
     "text": [
      "Iter:  1 0.09999999999999999\n",
      "Iter:  2 0.05000000000000002\n",
      "Iter:  3 0.024999999999999994\n",
      "Iter:  4 0.012499999999999983\n",
      "Iter:  5 0.0062500000000000056\n",
      "Iter:  6 0.0031250000000000167\n",
      "Iter:  7 0.0015624999999999944\n",
      "Iter:  8 0.0007812500000000111\n",
      "Iter:  9 0.0003906249999999778\n",
      "Iter:  10 0.0001953124999999889\n",
      "Iter:  11 9.765624999999445e-05\n",
      "Iter:  12 4.88281250000111e-05\n",
      "Iter:  13 2.4414062499977796e-05\n",
      "Iter:  14 1.2207031249988898e-05\n",
      "Iter:  15 6.1035156250222045e-06\n",
      "Iter:  16 3.0517578125111022e-06\n",
      "Iter:  17 1.5258789062277955e-06\n",
      "Iter:  18 7.629394531138978e-07\n",
      "x =  0.15419692993164064 f =  3.6057475769624148e-06\n"
     ]
    }
   ],
   "source": [
    "##### Program 2.5 Bisection search in one dimension\n",
    "\n",
    "# Import package\n",
    "import numpy as np\n",
    "\n",
    "# Set initial guesses and function values\n",
    "a = 0.05\n",
    "b = 0.25\n",
    "fa = 0.5 * a ** (-0.2) + 0.5 * a ** (-0.5) - 2\n",
    "fb = 0.5 * b ** (-0.2) + 0.5 * b ** (-0.5) - 2\n",
    "\n",
    "# Check whether there is a root in [a,b]\n",
    "if fa * fb >= 0:\n",
    "    print('Error: There is no root in [a, b]')\n",
    "\n",
    "# Start iteration process\n",
    "for iter in range(1,201):\n",
    "    # calculate new bisection point and function value\n",
    "    x = (a + b) / 2\n",
    "    fx = 0.5 * x ** (-0.2) + 0.5 * x ** (-0.5) - 2\n",
    "    print('Iter: ', iter, abs(x-a))\n",
    "    # check for convergence\n",
    "    if abs(x-a) < 1e-6:\n",
    "        print('x = ', x, 'f = ', fx)\n",
    "        break\n",
    "    else:\n",
    "        # calculate new interval\n",
    "        if fa * fx < 0:\n",
    "            b = x\n",
    "            fb = fx\n",
    "        else:\n",
    "            a = x\n",
    "            fa = fx\n",
    "#print('Error: no convergence')"
   ]
  },
  {
   "cell_type": "code",
   "execution_count": 97,
   "metadata": {},
   "outputs": [],
   "source": [
    "import numpy as np\n",
    "\n",
    "def my_newton(f, df, x0, tol):\n",
    "    # output is an estimation of the root of f \n",
    "    # using the Newton Raphson method\n",
    "    # recursive implementation\n",
    "    if abs(f(x0)) < tol:\n",
    "        return x0\n",
    "    else:\n",
    "        return my_newton(f, df, x0 - f(x0)/df(x0), tol)"
   ]
  },
  {
   "cell_type": "code",
   "execution_count": 98,
   "metadata": {},
   "outputs": [
    {
     "name": "stdout",
     "output_type": "stream",
     "text": [
      "x =  0.1541976402098051 f =  3.6657294977260335e-09\n"
     ]
    }
   ],
   "source": [
    "f_prime = lambda x: - 0.1 * x ** (-1.2) - 0.25 * x ** (-1.5)\n",
    "\n",
    "x0 = 0.05\n",
    "tol = 1e-6\n",
    "\n",
    "estimate = my_newton(f, f_prime, x0, tol)\n",
    "print('x = ', estimate, 'f = ', f(estimate))"
   ]
  },
  {
   "cell_type": "code",
   "execution_count": 99,
   "metadata": {},
   "outputs": [
    {
     "name": "stdout",
     "output_type": "stream",
     "text": [
      "Iter: 1 0.04408732158282293\n",
      "Iter: 2 0.04169009083687783\n",
      "Iter: 3 0.016793114299839235\n",
      "Iter: 4 0.0016146905730098915\n",
      "Iter: 5 1.2422917255200394e-05\n",
      "Iter: 6 7.228309617524076e-10\n",
      "x =  0.15419764093263605 f =  3.6657294977260335e-09\n"
     ]
    }
   ],
   "source": [
    "##### Program 2.6 Newton's method in one dimension\n",
    "\n",
    "# Import package\n",
    "import numpy as np\n",
    "\n",
    "# Set initial guesses\n",
    "xold = 0.05\n",
    "\n",
    "# Start iteration process\n",
    "for iter in range(1,201):\n",
    "    # calculate function value\n",
    "    f = 0.5 * xold ** (-0.2) + 0.5 * xold ** (-0.5) - 2\n",
    "    # calculate derivation\n",
    "    fprime = -0.1 * xold ** (-1.2) - 0.25 * xold ** (-1.5)\n",
    "    # calculate new value\n",
    "    x = xold - f / fprime\n",
    "    print('Iter:', iter, abs(x-xold))\n",
    "    # check for convergence\n",
    "    if abs(x-xold) < 1e-6:\n",
    "        print('x = ', x, 'f = ', f)\n",
    "        break\n",
    "    else:\n",
    "        # copy old value\n",
    "        xold = x\n",
    "    \n",
    "#print('Error: no convergence')"
   ]
  },
  {
   "cell_type": "code",
   "execution_count": 9,
   "metadata": {},
   "outputs": [],
   "source": [
    "import numpy as np\n",
    "\n",
    "def my_fixedpoint(f, x0, sigma, tol, maxiter):\n",
    "    # output is an estimation of the root of f \n",
    "    # using the Fixed-point iteration method\n",
    "    # recursive implementation\n",
    "    \n",
    "    itr = 0\n",
    "    while(abs(f(x0)-x0) > tol and itr <= maxiter):\n",
    "        g = lambda x: x + sigma * f(x)\n",
    "        x0 = g(x0)\n",
    "        itr = itr + 1\n",
    "    \n",
    "    return x0"
   ]
  },
  {
   "cell_type": "code",
   "execution_count": 14,
   "metadata": {},
   "outputs": [
    {
     "name": "stdout",
     "output_type": "stream",
     "text": [
      "x =  0.15419764093263605 f =  0.0\n"
     ]
    }
   ],
   "source": [
    "x = my_fixedpoint(f, 0.2, 0.2, 1e-8, 200)\n",
    "\n",
    "print('x = ', x, 'f = ', f(x))"
   ]
  },
  {
   "cell_type": "code",
   "execution_count": 70,
   "metadata": {},
   "outputs": [
    {
     "name": "stderr",
     "output_type": "stream",
     "text": [
      "/Users/yurui.zhang/opt/anaconda3/lib/python3.7/site-packages/ipykernel_launcher.py:3: RuntimeWarning: divide by zero encountered in power\n",
      "  This is separate from the ipykernel package so we can avoid doing imports until\n"
     ]
    },
    {
     "data": {
      "image/png": "[encoded data removed]",
      "text/plain": [
       "<Figure size 468x432 with 1 Axes>"
      ]
     },
     "metadata": {
      "needs_background": "light"
     },
     "output_type": "display_data"
    }
   ],
   "source": [
    "### This block of code is referenced from QuantEcon that produces 45 degree diagrams and time series plots.\n",
    "### Please see https://python.quantecon.org/scalar_dynam.html\n",
    "\n",
    "%matplotlib inline\n",
    "import matplotlib.pyplot as plt\n",
    "plt.rcParams[\"figure.figsize\"] = (11, 5)  #set default figure size\n",
    "import numpy as np\n",
    "\n",
    "def subplots(fs):\n",
    "    \"Custom subplots with axes throught the origin\"\n",
    "    fig, ax = plt.subplots(figsize=fs)\n",
    "\n",
    "    # Set the axes through the origin\n",
    "    for spine in ['left', 'bottom']:\n",
    "        ax.spines[spine].set_position('zero')\n",
    "        ax.spines[spine].set_color('green')\n",
    "    for spine in ['right', 'top']:\n",
    "        ax.spines[spine].set_color('none')\n",
    "\n",
    "    return fig, ax\n",
    "\n",
    "def plot45(g, xmin, xmax, x0, num_arrows=6, var='x'):\n",
    "\n",
    "    xgrid = np.linspace(xmin, xmax, 200)\n",
    "\n",
    "    fig, ax = subplots((6.5, 6))\n",
    "    ax.set_xlim(xmin, xmax)\n",
    "    ax.set_ylim(xmin, xmax)\n",
    "\n",
    "    hw = (xmax - xmin) * 0.01\n",
    "    hl = 2 * hw\n",
    "    arrow_args = dict(fc=\"k\", ec=\"k\", head_width=hw,\n",
    "            length_includes_head=True, lw=1,\n",
    "            alpha=0.6, head_length=hl)\n",
    "\n",
    "    ax.plot(xgrid, g(xgrid), 'b-', lw=2, alpha=0.6, label='f')\n",
    "    ax.plot(xgrid, xgrid, 'k-', lw=1, alpha=0.7, label='45')\n",
    "\n",
    "    x = x0\n",
    "    xticks = [xmin]\n",
    "    xtick_labels = [xmin]\n",
    "\n",
    "    for i in range(num_arrows):\n",
    "        if i == 0:\n",
    "            ax.arrow(x, 0.0, 0.0, g(x), **arrow_args) # x, y, dx, dy\n",
    "        else:\n",
    "            ax.arrow(x, x, 0.0, g(x) - x, **arrow_args)\n",
    "            ax.plot((x, x), (0, x), 'k', ls='dotted')\n",
    "\n",
    "        ax.arrow(x, g(x), g(x) - x, 0, **arrow_args)\n",
    "        xticks.append(x)\n",
    "        xtick_labels.append(r'${}_{}$'.format(var, str(i)))\n",
    "\n",
    "        x = g(x)\n",
    "        xticks.append(x)\n",
    "        xtick_labels.append(r'${}_{}$'.format(var, str(i+1)))\n",
    "        ax.plot((x, x), (0, x), 'k-', ls='dotted')\n",
    "\n",
    "    xticks.append(xmax)\n",
    "    xtick_labels.append(xmax)\n",
    "    ax.set_xticks(xticks)\n",
    "    ax.set_yticks(xticks)\n",
    "    ax.set_xticklabels(xtick_labels)\n",
    "    ax.set_yticklabels(xtick_labels)\n",
    "\n",
    "    bbox = (0., 1.04, 1., .104)\n",
    "    legend_args = {'bbox_to_anchor': bbox, 'loc': 'upper right'}\n",
    "\n",
    "    ax.legend(ncol=2, frameon=False, **legend_args, fontsize=14)\n",
    "    plt.show()\n",
    "\n",
    "xmin = 0\n",
    "xmax = 0.3\n",
    "\n",
    "plot45(f, xmin, xmax, 0, num_arrows=0)"
   ]
  },
  {
   "cell_type": "code",
   "execution_count": 87,
   "metadata": {},
   "outputs": [
    {
     "name": "stdout",
     "output_type": "stream",
     "text": [
      "Iter: 1 0.229270015802566\n",
      "Iter: 2 0.08170990088855945\n",
      "Iter: 3 0.03670456668162733\n",
      "Iter: 4 0.006549532177659939\n",
      "Iter: 5 0.00010986589906969435\n",
      "Iter: 6 1.5120612125996136e-06\n",
      "Iter: 7 2.1587953868973386e-08\n",
      "x =  0.1541976406289083 f = -1.0793976934486693e-07\n"
     ]
    }
   ],
   "source": [
    "##### Program 2.7 Fixed-point iteration in one dimension\n",
    "\n",
    "# Import package\n",
    "import numpy as np\n",
    "\n",
    "# Set initial guesses and chose sigma\n",
    "xold = 0.05\n",
    "sigma = 0.2\n",
    "\n",
    "# Start iteration process\n",
    "for iter in range(1,201):\n",
    "    # calculate function value\n",
    "    f = 0.5 * xold ** (-0.2) +0.5 * xold ** (-0.5) - 2\n",
    "    # calculate new value\n",
    "    x = xold + sigma * f\n",
    "    print('Iter:', iter, abs(x-xold))\n",
    "    # check for convergence\n",
    "    if abs(x-xold) < 1e-6:\n",
    "        print('x = ', x, 'f =', f)\n",
    "        break\n",
    "    else:\n",
    "        # copy old value\n",
    "        xold = x\n",
    "#print('Error: no convergence')"
   ]
  },
  {
   "cell_type": "code",
   "execution_count": 54,
   "metadata": {},
   "outputs": [
    {
     "name": "stdout",
     "output_type": "stream",
     "text": [
      "Firm 1:  0.8395676035356583\n",
      "Firm 2:  0.688796431163002\n",
      "Price:  0.7671110596740338\n"
     ]
    }
   ],
   "source": [
    "##### Program 2.8 Multidimensional root-finding\n",
    "\n",
    "# Import package\n",
    "import numpy as np\n",
    "from scipy.optimize import fsolve\n",
    "\n",
    "# Initialize q and function parameters\n",
    "q0 = ([0.1,0.1])\n",
    "eta = 1.6\n",
    "c = ([0.6, 0.8])\n",
    "\n",
    "# Function that defines the oligopoly equations\n",
    "def Cournot(q):\n",
    "    return sum(q) ** (-1/eta) - (1/eta) * sum(q) ** (-(1/eta) - 1) * q - c * q\n",
    "\n",
    "# Find root\n",
    "q = fsolve(Cournot, q0)\n",
    "\n",
    "# Output\n",
    "print('Firm 1: ', q[0])\n",
    "print('Firm 2: ', q[1])\n",
    "print('Price: ', (sum(q) ** (-1/eta)))"
   ]
  },
  {
   "cell_type": "code",
   "execution_count": 73,
   "metadata": {},
   "outputs": [],
   "source": [
    "import numpy as np\n",
    "\n",
    "def gauss_seidel(A, b, tolerance=1e-10, max_iterations=10000):\n",
    "    \n",
    "    x = np.zeros_like(b, dtype=np.double)\n",
    "    \n",
    "    #Iterate\n",
    "    for k in range(max_iterations):\n",
    "        \n",
    "        x_old  = x.copy()\n",
    "        \n",
    "        #Loop over rows\n",
    "        for i in range(A.shape[0]):\n",
    "            x[i] = (b[i] - np.dot(A[i,:i], x[:i]) - np.dot(A[i,(i+1):], x_old[(i+1):])) / A[i ,i]\n",
    "            \n",
    "        #Stop condition \n",
    "        if np.linalg.norm(x - x_old, ord=np.inf) / np.linalg.norm(x, ord=np.inf) < tolerance:\n",
    "            break\n",
    "            \n",
    "    return x\n",
    "\n",
    "#ref: Numerical Methods and Programming, retrieved from \n",
    "#https://johnfoster.pge.utexas.edu/numerical-methods-book/LinearAlgebra_IterativeSolvers.html"
   ]
  },
  {
   "cell_type": "code",
   "execution_count": 104,
   "metadata": {},
   "outputs": [
    {
     "name": "stdout",
     "output_type": "stream",
     "text": [
      "Iter: 1 [2.22318741 1.67489056]\n",
      "Iter: 2 [0.98776309 0.7759402 ]\n",
      "Iter: 3 [0.82822044 0.67777083]\n",
      "Iter: 4 [0.84125168 0.69021819]\n",
      "Iter: 5 [0.83933567 0.68860556]\n",
      "Iter: 6 [0.83959954 0.68882264]\n",
      "Iter: 7 [0.83956321 0.68879283]\n",
      "Iter: 8 [0.83956821 0.68879693]\n",
      "Iter: 9 [0.83956752 0.68879636]\n",
      "Iter: 10 [0.83956761 0.68879644]\n",
      "Iter: 11 [0.8395676  0.68879643]\n",
      "Iter: 12 [0.8395676  0.68879643]\n",
      "Iter: 13 [0.8395676  0.68879643]\n",
      "Iter: 14 [0.8395676  0.68879643]\n",
      "Iter: 15 [0.8395676  0.68879643]\n",
      "Iter: 16 [0.8395676  0.68879643]\n",
      "Iter: 17 [0.8395676  0.68879643]\n",
      "Iter: 18 [0.8395676  0.68879643]\n",
      "Iter: 19 [0.8395676  0.68879643]\n",
      "Iter: 20 [0.8395676  0.68879643]\n",
      "Iter: 21 [0.8395676  0.68879643]\n",
      "Iter: 22 [0.8395676  0.68879643]\n",
      "Iter: 23 [0.8395676  0.68879643]\n",
      "Output: [0.8395676  0.68879643]\n"
     ]
    }
   ],
   "source": [
    "##### Program 2.9 Gauss-Seidel iteration\n",
    "\n",
    "# Import package\n",
    "import numpy as np\n",
    "\n",
    "# Initialize q and function parameters\n",
    "eta = 1.6\n",
    "c = ([0.6, 0.8])\n",
    "qold = np.zeros(2) + 0.1\n",
    "damp = np.zeros(2) + 0.7\n",
    "\n",
    "for iter in range(1,201):\n",
    "    q = (sum(qold) ** (-1/eta) - (1/eta) * sum(qold) ** (-1/eta - 1) * qold) / c\n",
    "    q = damp * q + (1 - damp) * qold\n",
    "    # write to screen\n",
    "    print('Iter:', iter, q)\n",
    "    # Check for convergence\n",
    "    if np.ma.all(abs(q-qold)) < 1e-6:\n",
    "        print('Output:', q)\n",
    "        break\n",
    "    else:\n",
    "        # update q\n",
    "        qold = q"
   ]
  },
  {
   "cell_type": "code",
   "execution_count": 21,
   "metadata": {},
   "outputs": [
    {
     "name": "stdout",
     "output_type": "stream",
     "text": [
      "x1 =  1.6131967237506544\n",
      "x2 =  -0.30659836187532713\n",
      "u  =  2.043514440866734\n"
     ]
    }
   ],
   "source": [
    "import numpy as np\n",
    "from scipy.optimize import golden\n",
    "\n",
    "# Initial interval and function values\n",
    "p = ([1,2])\n",
    "W = 1 # Normalize the available resources W = 1\n",
    "a = 0 # a = 0 restricts x2 to be non-negative\n",
    "b = W / p[1] # Gurantee that x1 is non-negative\n",
    "\n",
    "# Set starting point\n",
    "x0 = (a + b) / 2.0 # Set the initial point to be the midpoint of the initial interval\n",
    "\n",
    "# The utility function\n",
    "def utility(x):\n",
    "    return -(((W - p[1] * x) / p[0]) ** 0.4 + (1 + x) ** 0.5)\n",
    "\n",
    "\n",
    "minimum = golden(utility, brack = (a,b)) # Specifing an initial interval (a,b) \n",
    "\n",
    "# Output\n",
    "print('x1 = ', (W - p[1] * minimum) / p[0])\n",
    "print('x2 = ', minimum)\n",
    "print('u  = ', -utility(minimum))\n",
    "# Note that the scipy.optimize.golden can only search for the global minima"
   ]
  },
  {
   "cell_type": "code",
   "execution_count": 8,
   "metadata": {},
   "outputs": [
    {
     "name": "stdout",
     "output_type": "stream",
     "text": [
      "Iter: 1 0.495\n",
      "Iter: 2 0.30592682443119795\n",
      "Iter: 3 0.18907317556880207\n",
      "Iter: 4 0.11685364886239592\n",
      "Iter: 5 0.07221952670640618\n",
      "Iter: 6 0.04463412215598977\n",
      "Iter: 7 0.027585404550416415\n",
      "Iter: 8 0.017048717605573357\n",
      "Iter: 9 0.01053668694484306\n",
      "Iter: 10 0.0065120306607303\n",
      "Iter: 11 0.004024656284112761\n",
      "Iter: 12 0.0024873743766175398\n",
      "Iter: 13 0.0015372819074952215\n",
      "Iter: 14 0.0009500924691223187\n",
      "Iter: 15 0.000587189438372903\n",
      "Iter: 16 0.00036290303074941585\n",
      "Iter: 17 0.00022428640762348724\n",
      "Iter: 18 0.00013861662312592867\n",
      "Iter: 19 8.566978449755861e-05\n",
      "Iter: 20 5.294683862837006e-05\n",
      "Iter: 21 3.2722945869188566e-05\n",
      "Iter: 22 2.0223892759181505e-05\n",
      "Iter: 23 1.2499053110007062e-05\n",
      "Iter: 24 7.724839649174444e-06\n",
      "Iter: 25 4.774213460832621e-06\n",
      "Iter: 26 2.9506261883418247e-06\n",
      "Iter: 27 1.8235872724907965e-06\n",
      "Iter: 28 1.1270389158510284e-06\n",
      "Iter: 29 6.965483566397682e-07\n",
      "x1 =  0.9999994678844052\n",
      "x2 =  2.660577974285079e-07\n",
      "u  =  1.999999920182618\n"
     ]
    }
   ],
   "source": [
    "##### Program 2.10 Golden-Search method in one dimension\n",
    "\n",
    "# Import package\n",
    "import numpy as np\n",
    "import math\n",
    "\n",
    "# Initial interval and function values\n",
    "p = ([1,2])\n",
    "W = 1\n",
    "a = 0\n",
    "b = (W - p[0] * 0.01) / p[1]\n",
    "\n",
    "# Start iteration process\n",
    "for iter in range(1,201):\n",
    "    # calculate x1 and x2 and function values\n",
    "    x1 = a + (3 - math.sqrt(5)) / 2 * (b-a)\n",
    "    x2 = a + (math.sqrt(5) - 1) / 2 * (b-a)\n",
    "    f1 = - (((W - p[1] * x1)/ p[0]) ** 0.4 + (1 + x1) ** 0.5)\n",
    "    f2 = - (((W - p[1] * x2)/ p[0]) ** 0.4 + (1 + x2) ** 0.5)\n",
    "    print('Iter:', iter, abs(b-a))\n",
    "    # check for convergence\n",
    "    if abs(b-a) < 1e-6:\n",
    "        print('x1 = ', (W-p[1]*x1)/p[0])\n",
    "        print('x2 = ', x1)\n",
    "        print('u  = ', -f1)\n",
    "        break\n",
    "    else:\n",
    "        # get new values\n",
    "        if f1 < f2:\n",
    "            b = x2\n",
    "        else:\n",
    "            a = x1\n"
   ]
  },
  {
   "cell_type": "code",
   "execution_count": 72,
   "metadata": {},
   "outputs": [
    {
     "name": "stdout",
     "output_type": "stream",
     "text": [
      "Optimization terminated successfully.\n",
      "         Current function value: -2.043514\n",
      "         Iterations: 17\n",
      "         Function evaluations: 34\n",
      "x1 =  1.6131425781250048\n",
      "x2 =  -0.3065712890625024\n",
      "u  =  2.0435144405437966\n",
      "x1 =  1.6131967723905305\n",
      "x2 =  -0.30659838619526525\n",
      "u  =  2.0435144408667343\n",
      "x1 =  1.6131967723905305\n",
      "x2 =  -0.30659838619526525\n",
      "u  =  2.0435144408667343\n"
     ]
    }
   ],
   "source": [
    "##### Program 2.11 Brent and Powell for finding minima\n",
    "\n",
    "# Import package\n",
    "import numpy as np\n",
    "from scipy.optimize import fmin, brent, minimize_scalar\n",
    "\n",
    "# Initial interval and function values\n",
    "p = ([1,2])\n",
    "W = 1\n",
    "a = 0\n",
    "b = (W - p[0] * 0.01) / p[1]\n",
    "\n",
    "# The utility function\n",
    "def utility(x):\n",
    "    return -(((W - p[1] * x) / p[0]) ** 0.4 + (1 + x) ** 0.5)\n",
    "\n",
    "# Code 1, fmin\n",
    "res = fmin(utility, x0)\n",
    "# Output\n",
    "print('x1 = ', (W - p[1] * res[0]) / p[0])\n",
    "print('x2 = ', res[0])\n",
    "print('u  = ', -utility(res[0]))\n",
    "\n",
    "# Code 2, brent\n",
    "minimum = brent(utility, brack = (a,b))\n",
    "# Output\n",
    "print('x1 = ', (W - p[1] * minimum) / p[0])\n",
    "print('x2 = ', minimum)\n",
    "print('u  = ', -utility(minimum))\n",
    "\n",
    "# Code 3, minimize_scalar\n",
    "result = minimize_scalar(utility, bracket = (a,b), method = 'brent')\n",
    "# Output\n",
    "print('x1 = ', (W - p[1] * result.x) / p[0])\n",
    "print('x2 = ', result.x)\n",
    "print('u  = ', -result.fun)"
   ]
  },
  {
   "cell_type": "code",
   "execution_count": 104,
   "metadata": {},
   "outputs": [
    {
     "name": "stdout",
     "output_type": "stream",
     "text": [
      "Numerical:  0.9062644128156156\n",
      "Analytical:  0.9092974268256817\n"
     ]
    }
   ],
   "source": [
    "##### Program 2.12 Summed trapezoid rule with cos(x)\n",
    "\n",
    "# Import package\n",
    "import numpy as np\n",
    "import math\n",
    "\n",
    "# Initial parameters\n",
    "n = 10\n",
    "a = 0 \n",
    "b = 2\n",
    "h = (b - a) / n\n",
    "x = np.zeros((n+1)) + a + h * np.arange(n+1)\n",
    "\n",
    "# Get weights\n",
    "w = np.zeros((n+1))\n",
    "w[0] = h / 2\n",
    "w[n] = h / 2\n",
    "w[1:n] = h\n",
    "f = []\n",
    "\n",
    "# Calculate function values at nodes\n",
    "for i in range(len(x)): \n",
    "    f.append(math.cos(x[i])) \n",
    "\n",
    "# Output numerical and analytical solution\n",
    "print('Numerical: ', sum(w*f))\n",
    "print('Analytical: ', math.sin(2)-math.sin(0))"
   ]
  },
  {
   "cell_type": "code",
   "execution_count": 108,
   "metadata": {},
   "outputs": [
    {
     "name": "stdout",
     "output_type": "stream",
     "text": [
      "Numerical:  0.9092974268256817\n",
      "Analytical:  0.9092974268256817\n"
     ]
    }
   ],
   "source": [
    "##### Program 2.13 Gauss-Legendre quadrature with cos(x)\n",
    "\n",
    "# Import package\n",
    "import numpy as np\n",
    "import math\n",
    "from numpy.polynomial import legendre\n",
    "\n",
    "# Initial values\n",
    "n = 10\n",
    "a = 0\n",
    "b = 2\n",
    "f = lambda x: np.cos(x)\n",
    "\n",
    "# Gauss-Legendre (default interval is [-1, 1])\n",
    "x, w = legendre.leggauss(n)\n",
    "\n",
    "# Translate x values from the interval [-1, 1] to [a, b]\n",
    "t = 0.5*(x + 1)*(b - a) + a\n",
    "gauss = f((x + 1) * (b - a) / 2 + a)\n",
    "\n",
    "# Output\n",
    "print('Numerical: ', sum(w*gauss))\n",
    "print('Analytical: ', math.sin(2)-math.sin(0))"
   ]
  },
  {
   "cell_type": "code",
   "execution_count": 229,
   "metadata": {},
   "outputs": [
    {
     "name": "stdout",
     "output_type": "stream",
     "text": [
      "A      =  [1.46912007]\n",
      "E(p)   =  1.9382401348534901\n",
      "Var(p) =  30.528829209992395\n"
     ]
    }
   ],
   "source": [
    "##### Program 2.14 Agricultural problem\n",
    "\n",
    "# Import package\n",
    "import numpy as np\n",
    "import math\n",
    "from scipy.optimize import fsolve\n",
    "from scipy.stats import norm\n",
    "\n",
    "# Initial values\n",
    "mu = 1\n",
    "sig2 = 0.1\n",
    "minp = 1\n",
    "n = 10\n",
    "A0 = 1\n",
    "sigma = np.sqrt(sig2)\n",
    "\n",
    "# Discritize y\n",
    "y = norm.rvs(size=n,loc=mu,scale=sigma)\n",
    "w = norm.pdf(y,loc=mu,scale=sigma)\n",
    "for i in range(0,n):\n",
    "    w[i] = w[i]/sum(w)\n",
    "    \n",
    "# Define market function\n",
    "def marketfun(x):\n",
    "    p = (3-2*x*y)\n",
    "    max_res = []\n",
    "    for i in range(n):\n",
    "        max_res.append(max(p[i], minp))\n",
    "    Ep = sum(w * max_res)\n",
    "    market = x - (0.5 + 0.5 * Ep)\n",
    "    return market\n",
    "\n",
    "# Get optimum\n",
    "A = fsolve(marketfun,A0)\n",
    "\n",
    "# Get expectation and variance of price\n",
    "p = (3-2*A*y)\n",
    "max_res = []\n",
    "for i in range(n):\n",
    "    max_res.append(max(p[i], minp))\n",
    "Ep = sum(w * max_res)\n",
    "Varp = sum((w * max_res - Ep) ** 2)\n",
    "\n",
    "# Output\n",
    "print('A      = ', A)\n",
    "print('E(p)   = ', Ep)\n",
    "print('Var(p) = ', Varp)"
   ]
  },
  {
   "cell_type": "code",
   "execution_count": 241,
   "metadata": {},
   "outputs": [
    {
     "data": {
      "text/plain": [
       "Text(0.5, 1.0, 'Binomial Distribution')"
      ]
     },
     "execution_count": 241,
     "metadata": {},
     "output_type": "execute_result"
    },
    {
     "data": {
      "image/png": "[encoded data removed]",
      "text/plain": [
       "<Figure size 432x288 with 1 Axes>"
      ]
     },
     "metadata": {
      "needs_background": "light"
     },
     "output_type": "display_data"
    },
    {
     "data": {
      "image/png": "[encoded data removed]",
      "text/plain": [
       "<Figure size 432x288 with 1 Axes>"
      ]
     },
     "metadata": {
      "needs_background": "light"
     },
     "output_type": "display_data"
    },
    {
     "data": {
      "image/png": "[encoded data removed]",
      "text/plain": [
       "<Figure size 432x288 with 1 Axes>"
      ]
     },
     "metadata": {
      "needs_background": "light"
     },
     "output_type": "display_data"
    }
   ],
   "source": [
    "##### Program 2.15 Density and cumulative distribution functions\n",
    "%matplotlib inline \n",
    "\n",
    "# Import package\n",
    "import numpy as np\n",
    "import math\n",
    "from scipy.stats import uniform, lognorm, binom\n",
    "import matplotlib.pyplot as plt\n",
    "\n",
    "# Initial set up\n",
    "NN = 1000\n",
    "\n",
    "# Uniform distribution\n",
    "a = -1\n",
    "b = 1\n",
    "z = np.linspace(a-0.5, b+0.5, NN)\n",
    "uniform_distribution = uniform(loc=a, scale=(b-a))\n",
    "dens = uniform_distribution.pdf(z)\n",
    "dist = uniform_distribution.cdf(z)\n",
    "\n",
    "fig, ax = plt.subplots(1, 1)\n",
    "ax.plot(z, dens, 'r-', label='Density')\n",
    "ax.plot(z, dist, 'k-', label='Distribution')\n",
    "plt.legend()\n",
    "plt.title('Uniform Distribution')\n",
    "\n",
    "# Log-normal distribution\n",
    "mu = 1\n",
    "sigma = 0.25\n",
    "z = np.linspace(0, mu+5*np.sqrt(sigma), NN)\n",
    "lognorm_distribution = lognorm(1, loc=np.sqrt(sigma), scale=np.exp(mu))\n",
    "dens = lognorm_distribution.pdf(z)\n",
    "dist = lognorm_distribution.cdf(z)\n",
    "\n",
    "fig, bx = plt.subplots(1, 1)\n",
    "bx.plot(z, dens, 'r-', label='Density')\n",
    "bx.plot(z, dist, 'k-', label='Distribution')\n",
    "plt.legend()\n",
    "plt.title('Log-Normal Distribution')\n",
    "\n",
    "# Binomial distribution\n",
    "p = 0.25\n",
    "n = 12\n",
    "z = np.linspace(0,n,n)\n",
    "binomial_distribution = binom(n, p)\n",
    "dens = binomial_distribution.pmf(z)\n",
    "dist = binomial_distribution.cdf(z)\n",
    "\n",
    "fig, cx = plt.subplots(1, 1)\n",
    "cx.plot(z, dens, 'ro', label='Density')\n",
    "cx.plot(z, dist, 'ko', label='Distribution')\n",
    "plt.legend()\n",
    "plt.title('Binomial Distribution')"
   ]
  },
  {
   "cell_type": "code",
   "execution_count": 239,
   "metadata": {},
   "outputs": [
    {
     "data": {
      "text/plain": [
       "Text(0.5, 1.0, 'Binomial Distribution')"
      ]
     },
     "execution_count": 239,
     "metadata": {},
     "output_type": "execute_result"
    },
    {
     "data": {
      "image/png": "[encoded data removed]",
      "text/plain": [
       "<Figure size 432x288 with 1 Axes>"
      ]
     },
     "metadata": {
      "needs_background": "light"
     },
     "output_type": "display_data"
    },
    {
     "data": {
      "image/png": "[encoded data removed]",
      "text/plain": [
       "<Figure size 432x288 with 1 Axes>"
      ]
     },
     "metadata": {
      "needs_background": "light"
     },
     "output_type": "display_data"
    },
    {
     "data": {
      "image/png": "[encoded data removed]",
      "text/plain": [
       "<Figure size 432x288 with 1 Axes>"
      ]
     },
     "metadata": {
      "needs_background": "light"
     },
     "output_type": "display_data"
    }
   ],
   "source": [
    "##### Program 2.16 Density and cumulative distribution functions\n",
    "%matplotlib inline \n",
    "\n",
    "# Import package\n",
    "import numpy as np\n",
    "import math\n",
    "from scipy.stats import uniform, lognorm, binom\n",
    "import matplotlib.pyplot as plt\n",
    "\n",
    "# Initial set up\n",
    "NN = 20000\n",
    "\n",
    "# Uniform distribution\n",
    "a = -1\n",
    "b = 1\n",
    "x = np.random.uniform(a, b, NN)\n",
    "\n",
    "fig, ax = plt.subplots(1, 1)\n",
    "plt.hist(x, 20)\n",
    "plt.title('Uniform Distribution')\n",
    "\n",
    "# Log-normal distribution\n",
    "mu = 1\n",
    "sigma = 0.25\n",
    "x = np.random.normal(mu, sigma, NN)\n",
    "\n",
    "fig, bx = plt.subplots(1, 1)\n",
    "plt.hist(x, 20)\n",
    "plt.title('Normal Distribution')\n",
    "\n",
    "# Binomial distribution\n",
    "p = 0.25\n",
    "n = 12\n",
    "x = np.random.binomial(n, p, NN)\n",
    "\n",
    "fig, cx = plt.subplots(1, 1)\n",
    "plt.hist(x, n+1)\n",
    "plt.title('Binomial Distribution')"
   ]
  },
  {
   "cell_type": "code",
   "execution_count": 284,
   "metadata": {},
   "outputs": [
    {
     "data": {
      "text/plain": [
       "<matplotlib.legend.Legend at 0x1a2604f850>"
      ]
     },
     "execution_count": 284,
     "metadata": {},
     "output_type": "execute_result"
    },
    {
     "data": {
      "image/png": "[encoded data removed]",
      "text/plain": [
       "<Figure size 432x288 with 1 Axes>"
      ]
     },
     "metadata": {
      "needs_background": "light"
     },
     "output_type": "display_data"
    }
   ],
   "source": [
    "##### Program 2.17 Polynomial interpolation of Runge's function\n",
    "\n",
    "%matplotlib inline \n",
    "# Import package\n",
    "import numpy as np\n",
    "import math\n",
    "import matplotlib.pyplot as plt\n",
    "from scipy.interpolate import barycentric_interpolate,krogh_interpolate\n",
    "\n",
    "# Initial set up\n",
    "N = 10\n",
    "NN = 1000\n",
    "\n",
    "# Get equidistant plot nodes and Runge's function\n",
    "xplot = np.linspace(-1, 1, NN+1)\n",
    "yreal = 1/(1+25*xplot**2)\n",
    "fig, ax = plt.subplots(1, 1)\n",
    "ax.plot(xplot, yreal, 'k-', label = 'Original')\n",
    "\n",
    "# Equidistant polynomial interpolation\n",
    "xi = np.linspace(-1, 1, N+1)\n",
    "yi = 1/(1+25*xi**2)\n",
    "yplot = krogh_interpolate(xi,yi,xplot)\n",
    "ax.plot(xplot, yplot, 'b-', label = 'Equidistant')\n",
    "\n",
    "# Chebyshev polynomial interpolation\n",
    "def grid_Cons_Chev(a,b,N):\n",
    "    \"This function Creates N Chebychev nodes on the interval [a,b] \"\n",
    "    x = np.zeros(N+1)\n",
    "    for n in range(N+1):\n",
    "        x[n] = (a+b)/2 + (b-a)/2*math.cos(np.pi*((2*(N-n)+1)/(2*N+2)))\n",
    "    return x\n",
    "xc = grid_Cons_Chev(-1, 1, N)\n",
    "yc = 1/(1+25*xc**2)\n",
    "yplot2 = barycentric_interpolate(xc,yc,xplot)\n",
    "ax.plot(xplot, yplot2, 'r-', label = 'Chebyshev')\n",
    "plt.legend()\n"
   ]
  },
  {
   "cell_type": "code",
   "execution_count": 294,
   "metadata": {},
   "outputs": [
    {
     "data": {
      "text/plain": [
       "<matplotlib.legend.Legend at 0x1a26a34790>"
      ]
     },
     "execution_count": 294,
     "metadata": {},
     "output_type": "execute_result"
    },
    {
     "data": {
      "image/png": "[encoded data removed]",
      "text/plain": [
       "<Figure size 432x288 with 1 Axes>"
      ]
     },
     "metadata": {
      "needs_background": "light"
     },
     "output_type": "display_data"
    }
   ],
   "source": [
    "##### Program 2.18 Piecewise linear and cubic spline interpolation\n",
    "\n",
    "# Import package\n",
    "import numpy as np\n",
    "import math\n",
    "from scipy.interpolate import splrep,splev\n",
    "\n",
    "# Initial set up\n",
    "N = 10\n",
    "NN = 1000\n",
    "\n",
    "# Get nodes and data for interpolation\n",
    "xi = np.linspace(-1,1,N+1)\n",
    "yi = 1/(1+25*xi**2)\n",
    "\n",
    "# Get nodes and data for plotting\n",
    "xplot = np.linspace(-1,1,NN+1)\n",
    "yreal = 1/(1+25*xplot**2)\n",
    "fig, ax = plt.subplots(1, 1)\n",
    "ax.plot(xplot, yreal, 'k-', label = 'Original')\n",
    "\n",
    "# Piecewise linear interpolation\n",
    "yplot = np.interp(xplot, xi, yi)\n",
    "ax.plot(xplot, yplot, 'b-', label = 'Piecewise linear')\n",
    "\n",
    "# Cubic spline interpolation\n",
    "splines = splrep(xi, yi)\n",
    "yplot2 = splev(xplot, splines)\n",
    "ax.plot(xplot, yplot2, 'r-', label = 'Cubic Spline')\n",
    "plt.legend()"
   ]
  },
  {
   "cell_type": "code",
   "execution_count": 301,
   "metadata": {},
   "outputs": [
    {
     "data": {
      "image/png": "[encoded data removed]",
      "text/plain": [
       "<Figure size 432x288 with 1 Axes>"
      ]
     },
     "metadata": {
      "needs_background": "light"
     },
     "output_type": "display_data"
    },
    {
     "data": {
      "image/png": "[encoded data removed]",
      "text/plain": [
       "<Figure size 432x288 with 1 Axes>"
      ]
     },
     "metadata": {
      "needs_background": "light"
     },
     "output_type": "display_data"
    }
   ],
   "source": [
    "##### Program 2.19 Two-dimensional interpolation\n",
    "\n",
    "# Import package\n",
    "from mpl_toolkits.mplot3d import axes3d, Axes3D\n",
    "import matplotlib.pyplot as plt\n",
    "from matplotlib import cm\n",
    "import numpy as np\n",
    "import math\n",
    "from scipy.interpolate import splrep,splev,interp2d\n",
    "\n",
    "# Define plot data\n",
    "def plot_data(x, y, z):\n",
    "    fig = plt.figure()\n",
    "    #ax = fig.gca(projection='3d')\n",
    "    ax = Axes3D(fig)\n",
    "    surf = ax.plot_surface(x, y, z, cmap=cm.coolwarm,linewidth=0, antialiased=False)\n",
    "\n",
    "# Initial set up\n",
    "nx = 10\n",
    "nz = 20\n",
    "nerr = 1000\n",
    "xl = -1\n",
    "xr = 2\n",
    "zl = 0.5\n",
    "zr = 8\n",
    "\n",
    "# Get nodes and data for interpolation\n",
    "xi = np.linspace(xl,xr,nx+1)\n",
    "zi = np.linspace(zl,zr,nz+1)\n",
    "xx, zz = np.meshgrid(xi, zi)\n",
    "yi = xx ** 2 + np.sqrt(zz)\n",
    "\n",
    "# Piecewise linear interpolation\n",
    "f = interp2d(xi, zi, yi, kind='linear')\n",
    "xerr = np.linspace(xl,xr,nerr+1)\n",
    "zerr = np.linspace(zl,zr,nerr+1)\n",
    "xx_v, zz_v=np.meshgrid(xerr, zerr) \n",
    "y_li = f(xerr, zerr)\n",
    "plot_data(xerr, zerr, y_li)\n",
    "\n",
    "# Cubic spline interpolation\n",
    "g = interp2d(xi, zi, yi, kind='cubic')\n",
    "y_sp = g(xerr, zerr)\n",
    "plot_data(xerr, zerr, y_sp)"
   ]
  },
  {
   "cell_type": "code",
   "execution_count": 2,
   "metadata": {},
   "outputs": [
    {
     "name": "stdout",
     "output_type": "stream",
     "text": [
      "x      =  [25. 60.]\n",
      "Cons 1 =  15.000000000953094\n",
      "Cons 2 =  1.7715819922159426e-09\n",
      "Cons 3 =  1.22590790851973e-08\n"
     ]
    }
   ],
   "source": [
    "##### Program 2.20 Simplex algorithm for linear programs\n",
    "\n",
    "# Import package\n",
    "import numpy as np\n",
    "import math\n",
    "from scipy.optimize import linprog\n",
    "\n",
    "# Set up matrix, target vector and coefficients\n",
    "A = np.zeros((3,2))\n",
    "A[0,:] = ([1,1])\n",
    "A[1,:] = ([4,1])\n",
    "A[2,:] = ([20,10])\n",
    "b = np.array([100,160,1100])\n",
    "c = np.array([-120,-40])\n",
    "\n",
    "# Solve linear program\n",
    "res = linprog(c, A_ub=A, b_ub=b)\n",
    "\n",
    "# Output\n",
    "print('x      = ', res.x)\n",
    "print('Cons 1 = ', b[0]-sum(A[0,:]*res.x))\n",
    "print('Cons 2 = ', b[1]-sum(A[1,:]*res.x))\n",
    "print('Cons 3 = ', b[2]-sum(A[2,:]*res.x))"
   ]
  }
 ],
 "metadata": {
  "kernelspec": {
   "display_name": "Python 3",
   "language": "python",
   "name": "python3"
  },
  "language_info": {
   "codemirror_mode": {
    "name": "ipython",
    "version": 3
   },
   "file_extension": ".py",
   "mimetype": "text/x-python",
   "name": "python",
   "nbconvert_exporter": "python",
   "pygments_lexer": "ipython3",
   "version": "3.8.8"
  }
 },
 "nbformat": 4,
 "nbformat_minor": 2
}
